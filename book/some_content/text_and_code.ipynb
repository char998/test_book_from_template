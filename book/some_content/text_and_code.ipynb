{
 "cells": [
  {
   "cell_type": "markdown",
   "metadata": {},
   "source": [
    "# Copulas"
   ]
  },
  {
   "cell_type": "markdown",
   "metadata": {},
   "source": [
    "In many engineering and scientific applications there are multiple variables involved in the issues assessed. In structural engineering, when assessing the health of a structure, we have to take into account the loads imposed as well as the decay of the building materials. In climate science, when trying to study the effect of climate change in agricultural production we have to consider the impact of temperature change, soil moisture and precipitation, amongst others, in vegetation. \n",
    "\n",
    "These variables of interest are often \"tied\" to one another. By imposing loads continously in a bridge, the materials that consist start losing some of their . And as temperature increases, some of the soil moisture evaporates, which might impact precipitation later. How to assess all these complex relations between variables of interest?"
   ]
  },
  {
   "cell_type": "code",
   "execution_count": 1,
   "metadata": {},
   "outputs": [
    {
     "name": "stdout",
     "output_type": "stream",
     "text": [
      "hello world\n"
     ]
    }
   ],
   "source": [
    "print('hello world')"
   ]
  },
  {
   "cell_type": "markdown",
   "metadata": {},
   "source": [
    "### Correlation"
   ]
  },
  {
   "cell_type": "markdown",
   "metadata": {},
   "source": []
  },
  {
   "cell_type": "code",
   "execution_count": 2,
   "metadata": {},
   "outputs": [
    {
     "name": "stderr",
     "output_type": "stream",
     "text": [
      "c:\\Users\\chari\\miniconda3\\envs\\mude\\Lib\\site-packages\\pandas\\core\\arrays\\masked.py:60: UserWarning: Pandas requires version '1.3.6' or newer of 'bottleneck' (version '1.3.5' currently installed).\n",
      "  from pandas.core import (\n"
     ]
    },
    {
     "data": {
      "application/vnd.jupyter.widget-view+json": {
       "model_id": "007c5d4d4b8f4a9eabf769e65f8d5b91",
       "version_major": 2,
       "version_minor": 0
      },
      "text/plain": [
       "interactive(children=(FloatSlider(value=0.5, description='Correlation', max=1.0, min=-1.0), Output()), _dom_cl…"
      ]
     },
     "metadata": {},
     "output_type": "display_data"
    }
   ],
   "source": [
    "# Import necessary libraries\n",
    "import pandas as pd\n",
    "import numpy as np\n",
    "import matplotlib.pyplot as plt\n",
    "import seaborn as sns\n",
    "from ipywidgets import interact, FloatSlider\n",
    "\n",
    "# Enable inline plotting for Jupyter Notebook\n",
    "%matplotlib inline\n",
    "\n",
    "# Function to generate and plot correlated data\n",
    "def plot_correlation(corr_value):\n",
    "    # Generate data\n",
    "    np.random.seed(42)\n",
    "    x = np.random.randn(100)\n",
    "    y = corr_value * x + (1 - abs(corr_value)) * np.random.randn(100)\n",
    "    \n",
    "    # Create a DataFrame\n",
    "    df = pd.DataFrame({'X': x, 'Y': y})\n",
    "    \n",
    "    # Calculate and display the correlation coefficient\n",
    "    correlation = df.corr().iloc[0, 1]\n",
    "    print(f\"Correlation coefficient: {correlation:.2f}\")\n",
    "    \n",
    "    # Plot the data\n",
    "    plt.figure(figsize=(8, 6))\n",
    "    sns.scatterplot(x='X', y='Y', data=df)\n",
    "    plt.title(f'Scatter Plot with Correlation: {correlation:.2f}')\n",
    "    plt.xlabel('X')\n",
    "    plt.ylabel('Y')\n",
    "    plt.grid(True)\n",
    "    plt.show()\n",
    "\n",
    "# Interactive widget to adjust the correlation value\n",
    "interact(plot_correlation, corr_value=FloatSlider(value=0.5, min=-1, max=1, step=0.1, description='Correlation'));\n"
   ]
  }
 ],
 "metadata": {
  "kernelspec": {
   "display_name": "mude",
   "language": "python",
   "name": "python3"
  },
  "language_info": {
   "codemirror_mode": {
    "name": "ipython",
    "version": 3
   },
   "file_extension": ".py",
   "mimetype": "text/x-python",
   "name": "python",
   "nbconvert_exporter": "python",
   "pygments_lexer": "ipython3",
   "version": "3.11.5"
  }
 },
 "nbformat": 4,
 "nbformat_minor": 2
}
