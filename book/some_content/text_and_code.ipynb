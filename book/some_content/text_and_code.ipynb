{
 "cells": [
  {
   "cell_type": "code",
   "execution_count": 12,
   "metadata": {},
   "outputs": [
    {
     "name": "stdout",
     "output_type": "stream",
     "text": [
      "Requirement already satisfied: seaborn in c:\\users\\chari\\miniconda3\\envs\\mude\\lib\\site-packages (0.12.2)\n",
      "Requirement already satisfied: numpy!=1.24.0,>=1.17 in c:\\users\\chari\\miniconda3\\envs\\mude\\lib\\site-packages (from seaborn) (1.24.3)\n",
      "Requirement already satisfied: pandas>=0.25 in c:\\users\\chari\\miniconda3\\envs\\mude\\lib\\site-packages (from seaborn) (2.2.1)\n",
      "Requirement already satisfied: matplotlib!=3.6.1,>=3.1 in c:\\users\\chari\\miniconda3\\envs\\mude\\lib\\site-packages (from seaborn) (3.7.2)\n",
      "Requirement already satisfied: contourpy>=1.0.1 in c:\\users\\chari\\miniconda3\\envs\\mude\\lib\\site-packages (from matplotlib!=3.6.1,>=3.1->seaborn) (1.0.5)\n",
      "Requirement already satisfied: cycler>=0.10 in c:\\users\\chari\\miniconda3\\envs\\mude\\lib\\site-packages (from matplotlib!=3.6.1,>=3.1->seaborn) (0.11.0)\n",
      "Requirement already satisfied: fonttools>=4.22.0 in c:\\users\\chari\\miniconda3\\envs\\mude\\lib\\site-packages (from matplotlib!=3.6.1,>=3.1->seaborn) (4.25.0)\n",
      "Requirement already satisfied: kiwisolver>=1.0.1 in c:\\users\\chari\\miniconda3\\envs\\mude\\lib\\site-packages (from matplotlib!=3.6.1,>=3.1->seaborn) (1.4.4)\n",
      "Requirement already satisfied: packaging>=20.0 in c:\\users\\chari\\miniconda3\\envs\\mude\\lib\\site-packages (from matplotlib!=3.6.1,>=3.1->seaborn) (23.1)\n",
      "Requirement already satisfied: pillow>=6.2.0 in c:\\users\\chari\\miniconda3\\envs\\mude\\lib\\site-packages (from matplotlib!=3.6.1,>=3.1->seaborn) (9.4.0)\n",
      "Requirement already satisfied: pyparsing<3.1,>=2.3.1 in c:\\users\\chari\\miniconda3\\envs\\mude\\lib\\site-packages (from matplotlib!=3.6.1,>=3.1->seaborn) (3.0.9)\n",
      "Requirement already satisfied: python-dateutil>=2.7 in c:\\users\\chari\\miniconda3\\envs\\mude\\lib\\site-packages (from matplotlib!=3.6.1,>=3.1->seaborn) (2.8.2)\n",
      "Requirement already satisfied: pytz>=2020.1 in c:\\users\\chari\\miniconda3\\envs\\mude\\lib\\site-packages (from pandas>=0.25->seaborn) (2023.3.post1)\n",
      "Requirement already satisfied: tzdata>=2022.7 in c:\\users\\chari\\miniconda3\\envs\\mude\\lib\\site-packages (from pandas>=0.25->seaborn) (2023.3)\n",
      "Requirement already satisfied: six>=1.5 in c:\\users\\chari\\miniconda3\\envs\\mude\\lib\\site-packages (from python-dateutil>=2.7->matplotlib!=3.6.1,>=3.1->seaborn) (1.16.0)\n"
     ]
    },
    {
     "name": "stderr",
     "output_type": "stream",
     "text": [
      "ERROR: Could not find a version that satisfies the requirement ipynwidgets (from versions: none)\n",
      "ERROR: No matching distribution found for ipynwidgets\n"
     ]
    }
   ],
   "source": [
    "! pip install seaborn\n",
    "! pip install ipynwidgets"
   ]
  },
  {
   "cell_type": "markdown",
   "metadata": {},
   "source": [
    "# Copulas"
   ]
  },
  {
   "cell_type": "markdown",
   "metadata": {},
   "source": [
    "In many engineering and scientific applications there are multiple variables involved in the issues assessed. In structural engineering, when assessing the health of a structure, we have to take into account the loads imposed as well as the decay of the building materials. In climate science, when trying to study the effect of climate change in agricultural production we have to consider the impact of temperature change, soil moisture and precipitation, amongst others, in vegetation. \n",
    "\n",
    "These variables of interest are often \"tied\" to one another. By imposing loads continously in a bridge, the materials that consist start losing some of their . And as temperature increases, some of the soil moisture evaporates, which might impact precipitation later. How to assess all these complex relations between variables of interest?"
   ]
  },
  {
   "cell_type": "code",
   "execution_count": 8,
   "metadata": {},
   "outputs": [
    {
     "name": "stdout",
     "output_type": "stream",
     "text": [
      "hello world\n"
     ]
    }
   ],
   "source": [
    "print('hello world')"
   ]
  },
  {
   "cell_type": "markdown",
   "metadata": {},
   "source": [
    "### Correlation"
   ]
  },
  {
   "cell_type": "markdown",
   "metadata": {},
   "source": []
  },
  {
   "cell_type": "code",
   "execution_count": 9,
   "metadata": {},
   "outputs": [],
   "source": [
    "%%capture\n",
    "# Import necessary libraries\n",
    "import pandas as pd\n",
    "import numpy as np\n",
    "import matplotlib.pyplot as plt\n",
    "import seaborn as sns\n",
    "from ipywidgets import interact, FloatSlider\n",
    "\n",
    "# Enable inline plotting for Jupyter Notebook\n",
    "%matplotlib inline\n",
    "\n",
    "# Function to generate and plot correlated data\n",
    "def plot_correlation(corr_value):\n",
    "    # Generate data\n",
    "    np.random.seed(42)\n",
    "    x = np.random.randn(1000)\n",
    "    y = corr_value * x + (1 - abs(corr_value)) * np.random.randn(1000)\n",
    "    \n",
    "    # Create a DataFrame\n",
    "    df = pd.DataFrame({'X': x, 'Y': y})\n",
    "    \n",
    "    # Calculate and display the correlation coefficient\n",
    "    correlation = df.corr().iloc[0, 1]\n",
    "    print(f\"Correlation coefficient: {correlation:.2f}\")\n",
    "    \n",
    "    # Plot the data\n",
    "    plt.figure(figsize=(8, 6))\n",
    "    sns.scatterplot(x='X', y='Y', data=df)\n",
    "    plt.title(f'Scatter Plot with Correlation: {correlation:.2f}')\n",
    "    plt.xlabel('X')\n",
    "    plt.ylabel('Y')\n",
    "    plt.grid(True)\n",
    "    plt.show()\n",
    "\n",
    "# Interactive widget to adjust the correlation value\n",
    "interact(plot_correlation, corr_value=FloatSlider(value=0.5, min=-1, max=1, step=0.1, description='Correlation'));\n"
   ]
  }
 ],
 "metadata": {
  "kernelspec": {
   "display_name": "mude",
   "language": "python",
   "name": "python3"
  },
  "language_info": {
   "codemirror_mode": {
    "name": "ipython",
    "version": 3
   },
   "file_extension": ".py",
   "mimetype": "text/x-python",
   "name": "python",
   "nbconvert_exporter": "python",
   "pygments_lexer": "ipython3",
   "version": "3.11.5"
  }
 },
 "nbformat": 4,
 "nbformat_minor": 2
}
