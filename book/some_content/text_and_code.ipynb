{
 "cells": [
  {
   "cell_type": "markdown",
   "metadata": {},
   "source": [
    "# Statistics of dependance"
   ]
  },
  {
   "cell_type": "markdown",
   "metadata": {},
   "source": [
    "In many engineering and scientific applications there are multiple variables involved in the issues assessed. In structural engineering, when assessing the health of a structure, we have to take into account the loads imposed as well as the decay of the building materials. In climate science, when trying to study the effect of climate change in agricultural production we have to consider the impact of temperature change, soil moisture and precipitation, amongst others, in vegetation. \n",
    "\n",
    "These variables of interest are often \"tied\" to one another. By imposing loads continously in a bridge, the materials that consist start losing some of their . And as temperature increases, some of the soil moisture evaporates, which might impact precipitation later. How to assess all these complex relations between variables of interest?"
   ]
  },
  {
   "cell_type": "markdown",
   "metadata": {},
   "source": [
    "### Correlation"
   ]
  },
  {
   "cell_type": "markdown",
   "metadata": {},
   "source": [
    "A simple way to assess statistically whether two variables are related is their (linear) correlation, which describes how change in respect to one another. One of the most popular ways to calculate the correlation is the Pearson correlation r:\n",
    "\n",
    "$$\n",
    "r = \\frac{\\sum_{i=1}^{n} (X_i - \\bar{X})(Y_i - \\bar{Y})}{\\sqrt{\\sum_{i=1}^{n} (X_i - \\bar{X})^2 \\sum_{i=1}^{n} (Y_i - \\bar{Y})^2}}\n",
    "$$\n",
    "\n",
    "Where:\n",
    "- $X_i$ and  $Y_i$ are the individual data points,\n",
    "- $\\bar{X}$ and $\\bar{Y}$ are the means of $X$ and $Y$,\n",
    "- $n$ is the number of data points."
   ]
  },
  {
   "cell_type": "code",
   "execution_count": null,
   "metadata": {
    "tags": [
     "thebe-remove-input-init",
     "auto_execute_page"
    ]
   },
   "outputs": [
    {
     "data": {
      "application/vnd.jupyter.widget-view+json": {
       "model_id": "69f6665e3d4a441ba3358993ca3c4cb6",
       "version_major": 2,
       "version_minor": 0
      },
      "text/plain": [
       "interactive(children=(FloatSlider(value=0.5, description='Correlation', max=1.0, min=-1.0), Output()), _dom_cl…"
      ]
     },
     "metadata": {},
     "output_type": "display_data"
    }
   ],
   "source": [
    "\n",
    "# Import necessary libraries\n",
    "import pandas as pd\n",
    "import numpy as np\n",
    "import matplotlib.pyplot as plt\n",
    "import seaborn as sns\n",
    "from ipywidgets import interact, FloatSlider\n",
    "\n",
    "# Enable inline plotting for Jupyter Notebook\n",
    "%matplotlib inline\n",
    "\n",
    "# Function to generate and plot correlated data\n",
    "def plot_correlation(corr_value):\n",
    "    # Generate data\n",
    "    np.random.seed(42)\n",
    "    x = np.random.randn(1000)\n",
    "    y = corr_value * x + (1 - abs(corr_value)) * np.random.randn(1000)\n",
    "    \n",
    "    # Create a DataFrame\n",
    "    df = pd.DataFrame({'X': x, 'Y': y})\n",
    "    \n",
    "    # Calculate and display the correlation coefficient\n",
    "    correlation = df.corr().iloc[0, 1]\n",
    "    print(f\"Correlation coefficient: {correlation:.2f}\")\n",
    "    \n",
    "    # Plot the data\n",
    "    plt.figure(figsize=(8, 6))\n",
    "    sns.scatterplot(x='X', y='Y', data=df)\n",
    "    plt.title(f'Scatter Plot with Correlation: {correlation:.2f}')\n",
    "    plt.xlabel('X')\n",
    "    plt.ylabel('Y')\n",
    "    plt.grid(True)\n",
    "    plt.show()\n",
    "\n",
    "# Interactive widget to adjust the correlation value\n",
    "interact(plot_correlation, corr_value=FloatSlider(value=0.5, min=-1, max=1, step=0.1, description='Pearson Correlation'));\n"
   ]
  },
  {
   "cell_type": "markdown",
   "metadata": {},
   "source": [
    "### Covariance"
   ]
  },
  {
   "cell_type": "markdown",
   "metadata": {},
   "source": [
    "Covariance is a measure of how two variables vary together, so it is a measure of their joint probability. High values of covariance generally mean that there is a strong dependance between variables. The formula for the calculation of covariance is:\n",
    "\n",
    "$$\n",
    "\\text{Cov}(X, Y) = \\mathbb{E}[(X - \\mu_X)(Y - \\mu_Y)]\n",
    "$$\n"
   ]
  },
  {
   "cell_type": "code",
   "execution_count": null,
   "metadata": {},
   "outputs": [
    {
     "data": {
      "application/vnd.jupyter.widget-view+json": {
       "model_id": "47c88f94aa134de49ffc40b62c6787f8",
       "version_major": 2,
       "version_minor": 0
      },
      "text/plain": [
       "interactive(children=(IntSlider(value=0, description='mean_x', max=5, min=-5), IntSlider(value=0, description=…"
      ]
     },
     "execution_count": 4,
     "metadata": {},
     "output_type": "execute_result"
    }
   ],
   "source": [
    "import numpy as np\n",
    "import matplotlib.pyplot as plt\n",
    "from ipywidgets import interactive\n",
    "\n",
    "# Function to generate and plot data with adjustable covariance\n",
    "def plot_covariance(mean_x=0, mean_y=0, std_x=1, std_y=1, correlation=0):\n",
    "    np.random.seed(42) \n",
    "    x = np.random.normal(mean_x, std_x, 1000)\n",
    "    y = correlation * x + np.random.normal(mean_y, std_y, 1000) * np.sqrt(1 - correlation**2)\n",
    "\n",
    "    # Calculate covariance\n",
    "    covariance = np.cov(x, y)[0, 1]\n",
    "\n",
    "    # Plotting the scatter plot of X vs Y\n",
    "    plt.figure(figsize=(8, 6))\n",
    "    plt.scatter(x, y, alpha=0.5)\n",
    "    plt.title(f\"Scatter Plot (Covariance: {covariance:.2f})\", fontsize=14)\n",
    "    plt.xlabel(\"X\", fontsize=12)\n",
    "    plt.ylabel(\"Y\", fontsize=12)\n",
    "    plt.grid(True)\n",
    "    plt.show()\n",
    "\n",
    "    return covariance\n",
    "\n",
    "\n",
    "interactive_plot = interactive(plot_covariance, \n",
    "                               mean_x=(-5, 5, 1), \n",
    "                               mean_y=(-50, 50, 1), \n",
    "                               std_x=(0.1, 5, 0.1), \n",
    "                               std_y=(1, 10, 0.5), \n",
    "                               correlation=(-1, 1, 0.1))\n",
    "\n",
    "\n",
    "interactive_plot\n"
   ]
  },
  {
   "cell_type": "markdown",
   "metadata": {},
   "source": [
    "In this plot we can see how the covariance changes the way the two variables are set as well as their correlation "
   ]
  },
  {
   "cell_type": "markdown",
   "metadata": {},
   "source": [
    "### Copulas"
   ]
  },
  {
   "cell_type": "markdown",
   "metadata": {},
   "source": [
    "While covariance and correlation give us an estimate for the 'relationship' between variables, they exhibit significant limitations. "
   ]
  }
 ],
 "metadata": {
  "kernelspec": {
   "display_name": "mude",
   "language": "python",
   "name": "python3"
  },
  "language_info": {
   "codemirror_mode": {
    "name": "ipython",
    "version": 3
   },
   "file_extension": ".py",
   "mimetype": "text/x-python",
   "name": "python",
   "nbconvert_exporter": "python",
   "pygments_lexer": "ipython3",
   "version": "3.11.5"
  }
 },
 "nbformat": 4,
 "nbformat_minor": 2
}
